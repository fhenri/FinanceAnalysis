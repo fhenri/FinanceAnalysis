{
  "nbformat": 4,
  "nbformat_minor": 0,
  "metadata": {
    "colab": {
      "provenance": [],
      "authorship_tag": "ABX9TyN86G49tKq43yEZ/ADQBPjZ",
      "include_colab_link": true
    },
    "kernelspec": {
      "name": "python3",
      "display_name": "Python 3"
    },
    "language_info": {
      "name": "python"
    }
  },
  "cells": [
    {
      "cell_type": "markdown",
      "metadata": {
        "id": "view-in-github",
        "colab_type": "text"
      },
      "source": [
        "<a href=\"https://colab.research.google.com/github/fhenri/FinanceAnalysis/blob/main/GenAI_Assistant_Stock_Market_Analysis.ipynb\" target=\"_parent\"><img src=\"https://colab.research.google.com/assets/colab-badge.svg\" alt=\"Open In Colab\"/></a>"
      ]
    },
    {
      "cell_type": "code",
      "execution_count": 1,
      "metadata": {
        "colab": {
          "base_uri": "https://localhost:8080/"
        },
        "collapsed": true,
        "id": "9uB6Mhxv4uDA",
        "outputId": "3bc82fac-fb44-4aa3-a0bf-5c2aee2ebba1"
      },
      "outputs": [
        {
          "output_type": "stream",
          "name": "stdout",
          "text": [
            "Collecting openai==1.55.3\n",
            "  Downloading openai-1.55.3-py3-none-any.whl.metadata (24 kB)\n",
            "Collecting langchain-openai==0.2.11\n",
            "  Downloading langchain_openai-0.2.11-py3-none-any.whl.metadata (2.7 kB)\n",
            "Requirement already satisfied: yfinance in /usr/local/lib/python3.10/dist-packages (0.2.50)\n",
            "Collecting PyPortfolioOpt\n",
            "  Downloading pyportfolioopt-1.5.6-py3-none-any.whl.metadata (22 kB)\n",
            "Requirement already satisfied: anyio<5,>=3.5.0 in /usr/local/lib/python3.10/dist-packages (from openai==1.55.3) (3.7.1)\n",
            "Requirement already satisfied: distro<2,>=1.7.0 in /usr/local/lib/python3.10/dist-packages (from openai==1.55.3) (1.9.0)\n",
            "Requirement already satisfied: httpx<1,>=0.23.0 in /usr/local/lib/python3.10/dist-packages (from openai==1.55.3) (0.28.0)\n",
            "Requirement already satisfied: jiter<1,>=0.4.0 in /usr/local/lib/python3.10/dist-packages (from openai==1.55.3) (0.8.0)\n",
            "Requirement already satisfied: pydantic<3,>=1.9.0 in /usr/local/lib/python3.10/dist-packages (from openai==1.55.3) (2.10.2)\n",
            "Requirement already satisfied: sniffio in /usr/local/lib/python3.10/dist-packages (from openai==1.55.3) (1.3.1)\n",
            "Requirement already satisfied: tqdm>4 in /usr/local/lib/python3.10/dist-packages (from openai==1.55.3) (4.66.6)\n",
            "Requirement already satisfied: typing-extensions<5,>=4.11 in /usr/local/lib/python3.10/dist-packages (from openai==1.55.3) (4.12.2)\n",
            "Requirement already satisfied: langchain-core<0.4.0,>=0.3.21 in /usr/local/lib/python3.10/dist-packages (from langchain-openai==0.2.11) (0.3.21)\n",
            "Collecting tiktoken<1,>=0.7 (from langchain-openai==0.2.11)\n",
            "  Downloading tiktoken-0.8.0-cp310-cp310-manylinux_2_17_x86_64.manylinux2014_x86_64.whl.metadata (6.6 kB)\n",
            "Requirement already satisfied: pandas>=1.3.0 in /usr/local/lib/python3.10/dist-packages (from yfinance) (2.2.2)\n",
            "Requirement already satisfied: numpy>=1.16.5 in /usr/local/lib/python3.10/dist-packages (from yfinance) (1.26.4)\n",
            "Requirement already satisfied: requests>=2.31 in /usr/local/lib/python3.10/dist-packages (from yfinance) (2.32.3)\n",
            "Requirement already satisfied: multitasking>=0.0.7 in /usr/local/lib/python3.10/dist-packages (from yfinance) (0.0.11)\n",
            "Requirement already satisfied: lxml>=4.9.1 in /usr/local/lib/python3.10/dist-packages (from yfinance) (5.3.0)\n",
            "Requirement already satisfied: platformdirs>=2.0.0 in /usr/local/lib/python3.10/dist-packages (from yfinance) (4.3.6)\n",
            "Requirement already satisfied: pytz>=2022.5 in /usr/local/lib/python3.10/dist-packages (from yfinance) (2024.2)\n",
            "Requirement already satisfied: frozendict>=2.3.4 in /usr/local/lib/python3.10/dist-packages (from yfinance) (2.4.6)\n",
            "Requirement already satisfied: peewee>=3.16.2 in /usr/local/lib/python3.10/dist-packages (from yfinance) (3.17.8)\n",
            "Requirement already satisfied: beautifulsoup4>=4.11.1 in /usr/local/lib/python3.10/dist-packages (from yfinance) (4.12.3)\n",
            "Requirement already satisfied: html5lib>=1.1 in /usr/local/lib/python3.10/dist-packages (from yfinance) (1.1)\n",
            "Requirement already satisfied: cvxpy>=1.1.19 in /usr/local/lib/python3.10/dist-packages (from PyPortfolioOpt) (1.5.4)\n",
            "Requirement already satisfied: ecos<3.0.0,>=2.0.14 in /usr/local/lib/python3.10/dist-packages (from PyPortfolioOpt) (2.0.14)\n",
            "Requirement already satisfied: plotly<6.0.0,>=5.0.0 in /usr/local/lib/python3.10/dist-packages (from PyPortfolioOpt) (5.24.1)\n",
            "Requirement already satisfied: scipy>=1.3 in /usr/local/lib/python3.10/dist-packages (from PyPortfolioOpt) (1.13.1)\n",
            "Requirement already satisfied: idna>=2.8 in /usr/local/lib/python3.10/dist-packages (from anyio<5,>=3.5.0->openai==1.55.3) (3.10)\n",
            "Requirement already satisfied: exceptiongroup in /usr/local/lib/python3.10/dist-packages (from anyio<5,>=3.5.0->openai==1.55.3) (1.2.2)\n",
            "Requirement already satisfied: soupsieve>1.2 in /usr/local/lib/python3.10/dist-packages (from beautifulsoup4>=4.11.1->yfinance) (2.6)\n",
            "Requirement already satisfied: osqp>=0.6.2 in /usr/local/lib/python3.10/dist-packages (from cvxpy>=1.1.19->PyPortfolioOpt) (0.6.7.post3)\n",
            "Requirement already satisfied: clarabel>=0.5.0 in /usr/local/lib/python3.10/dist-packages (from cvxpy>=1.1.19->PyPortfolioOpt) (0.9.0)\n",
            "Requirement already satisfied: scs>=3.2.4.post1 in /usr/local/lib/python3.10/dist-packages (from cvxpy>=1.1.19->PyPortfolioOpt) (3.2.7)\n",
            "Requirement already satisfied: six>=1.9 in /usr/local/lib/python3.10/dist-packages (from html5lib>=1.1->yfinance) (1.16.0)\n",
            "Requirement already satisfied: webencodings in /usr/local/lib/python3.10/dist-packages (from html5lib>=1.1->yfinance) (0.5.1)\n",
            "Requirement already satisfied: certifi in /usr/local/lib/python3.10/dist-packages (from httpx<1,>=0.23.0->openai==1.55.3) (2024.8.30)\n",
            "Requirement already satisfied: httpcore==1.* in /usr/local/lib/python3.10/dist-packages (from httpx<1,>=0.23.0->openai==1.55.3) (1.0.7)\n",
            "Requirement already satisfied: h11<0.15,>=0.13 in /usr/local/lib/python3.10/dist-packages (from httpcore==1.*->httpx<1,>=0.23.0->openai==1.55.3) (0.14.0)\n",
            "Requirement already satisfied: PyYAML>=5.3 in /usr/local/lib/python3.10/dist-packages (from langchain-core<0.4.0,>=0.3.21->langchain-openai==0.2.11) (6.0.2)\n",
            "Requirement already satisfied: jsonpatch<2.0,>=1.33 in /usr/local/lib/python3.10/dist-packages (from langchain-core<0.4.0,>=0.3.21->langchain-openai==0.2.11) (1.33)\n",
            "Requirement already satisfied: langsmith<0.2.0,>=0.1.125 in /usr/local/lib/python3.10/dist-packages (from langchain-core<0.4.0,>=0.3.21->langchain-openai==0.2.11) (0.1.147)\n",
            "Requirement already satisfied: packaging<25,>=23.2 in /usr/local/lib/python3.10/dist-packages (from langchain-core<0.4.0,>=0.3.21->langchain-openai==0.2.11) (24.2)\n",
            "Requirement already satisfied: tenacity!=8.4.0,<10.0.0,>=8.1.0 in /usr/local/lib/python3.10/dist-packages (from langchain-core<0.4.0,>=0.3.21->langchain-openai==0.2.11) (9.0.0)\n",
            "Requirement already satisfied: python-dateutil>=2.8.2 in /usr/local/lib/python3.10/dist-packages (from pandas>=1.3.0->yfinance) (2.8.2)\n",
            "Requirement already satisfied: tzdata>=2022.7 in /usr/local/lib/python3.10/dist-packages (from pandas>=1.3.0->yfinance) (2024.2)\n",
            "Requirement already satisfied: annotated-types>=0.6.0 in /usr/local/lib/python3.10/dist-packages (from pydantic<3,>=1.9.0->openai==1.55.3) (0.7.0)\n",
            "Requirement already satisfied: pydantic-core==2.27.1 in /usr/local/lib/python3.10/dist-packages (from pydantic<3,>=1.9.0->openai==1.55.3) (2.27.1)\n",
            "Requirement already satisfied: charset-normalizer<4,>=2 in /usr/local/lib/python3.10/dist-packages (from requests>=2.31->yfinance) (3.4.0)\n",
            "Requirement already satisfied: urllib3<3,>=1.21.1 in /usr/local/lib/python3.10/dist-packages (from requests>=2.31->yfinance) (2.2.3)\n",
            "Requirement already satisfied: regex>=2022.1.18 in /usr/local/lib/python3.10/dist-packages (from tiktoken<1,>=0.7->langchain-openai==0.2.11) (2024.9.11)\n",
            "Requirement already satisfied: jsonpointer>=1.9 in /usr/local/lib/python3.10/dist-packages (from jsonpatch<2.0,>=1.33->langchain-core<0.4.0,>=0.3.21->langchain-openai==0.2.11) (3.0.0)\n",
            "Requirement already satisfied: orjson<4.0.0,>=3.9.14 in /usr/local/lib/python3.10/dist-packages (from langsmith<0.2.0,>=0.1.125->langchain-core<0.4.0,>=0.3.21->langchain-openai==0.2.11) (3.10.12)\n",
            "Requirement already satisfied: requests-toolbelt<2.0.0,>=1.0.0 in /usr/local/lib/python3.10/dist-packages (from langsmith<0.2.0,>=0.1.125->langchain-core<0.4.0,>=0.3.21->langchain-openai==0.2.11) (1.0.0)\n",
            "Requirement already satisfied: qdldl in /usr/local/lib/python3.10/dist-packages (from osqp>=0.6.2->cvxpy>=1.1.19->PyPortfolioOpt) (0.1.7.post4)\n",
            "Downloading openai-1.55.3-py3-none-any.whl (389 kB)\n",
            "\u001b[2K   \u001b[90m━━━━━━━━━━━━━━━━━━━━━━━━━━━━━━━━━━━━━━━━\u001b[0m \u001b[32m389.6/389.6 kB\u001b[0m \u001b[31m8.8 MB/s\u001b[0m eta \u001b[36m0:00:00\u001b[0m\n",
            "\u001b[?25hDownloading langchain_openai-0.2.11-py3-none-any.whl (50 kB)\n",
            "\u001b[2K   \u001b[90m━━━━━━━━━━━━━━━━━━━━━━━━━━━━━━━━━━━━━━━━\u001b[0m \u001b[32m50.7/50.7 kB\u001b[0m \u001b[31m3.8 MB/s\u001b[0m eta \u001b[36m0:00:00\u001b[0m\n",
            "\u001b[?25hDownloading pyportfolioopt-1.5.6-py3-none-any.whl (62 kB)\n",
            "\u001b[2K   \u001b[90m━━━━━━━━━━━━━━━━━━━━━━━━━━━━━━━━━━━━━━━━\u001b[0m \u001b[32m62.7/62.7 kB\u001b[0m \u001b[31m4.7 MB/s\u001b[0m eta \u001b[36m0:00:00\u001b[0m\n",
            "\u001b[?25hDownloading tiktoken-0.8.0-cp310-cp310-manylinux_2_17_x86_64.manylinux2014_x86_64.whl (1.2 MB)\n",
            "\u001b[2K   \u001b[90m━━━━━━━━━━━━━━━━━━━━━━━━━━━━━━━━━━━━━━━━\u001b[0m \u001b[32m1.2/1.2 MB\u001b[0m \u001b[31m19.6 MB/s\u001b[0m eta \u001b[36m0:00:00\u001b[0m\n",
            "\u001b[?25hInstalling collected packages: tiktoken, openai, PyPortfolioOpt, langchain-openai\n",
            "  Attempting uninstall: openai\n",
            "    Found existing installation: openai 1.54.5\n",
            "    Uninstalling openai-1.54.5:\n",
            "      Successfully uninstalled openai-1.54.5\n",
            "Successfully installed PyPortfolioOpt-1.5.6 langchain-openai-0.2.11 openai-1.55.3 tiktoken-0.8.0\n"
          ]
        }
      ],
      "source": [
        "# Install necessary libraries\n",
        "!pip install yfinance"
      ]
    },
    {
      "cell_type": "code",
      "source": [
        "## Libraries\n",
        "import pandas as pd\n",
        "import numpy as np\n",
        "from datetime import datetime, timedelta\n",
        "from IPython.display import display, Markdown\n",
        "from google.colab import userdata\n",
        "\n",
        "import yfinance as yf\n"
      ],
      "metadata": {
        "id": "UI4FNGqU45U3"
      },
      "execution_count": 2,
      "outputs": []
    },
    {
      "cell_type": "code",
      "source": [
        "# Function to calculate start and end dates based on the number of years from today\n",
        "def calculate_date_range(years):\n",
        "    end_date = datetime.today()\n",
        "    start_date = end_date - timedelta(days=years * 365)\n",
        "    return start_date.strftime('%Y-%m-%d'), end_date.strftime('%Y-%m-%d')"
      ],
      "metadata": {
        "id": "ZJGtzOwx5JdH"
      },
      "execution_count": 5,
      "outputs": []
    },
    {
      "cell_type": "code",
      "source": [
        "# Calculates and returns key performance indicators (RSI, Bollinger Bands, P/E Ratio, Beta, and MACD) for a list of stock tickers over a specified date range.\n",
        "def calculate_kpis(tickers, start_date, end_date):\n",
        "    \"\"\"\n",
        "    Calculate KPIs for a list of stocks over a given time period.\n",
        "\n",
        "    Parameters:\n",
        "    tickers (list): A list of stock ticker symbols.\n",
        "    start_date (str): The start date for the analysis.\n",
        "    end_date (str): The end date for the analysis.\n",
        "\n",
        "    Returns:\n",
        "    dict: A dictionary containing the KPIs for each stock.\n",
        "    \"\"\"\n",
        "    kpi_data = {}\n",
        "    for ticker in tickers:\n",
        "\n",
        "        # Download historical stock data\n",
        "        stock = yf.Ticker(ticker)\n",
        "        data = stock.history(start=start_date, end=end_date)\n",
        "        kpi_data[ticker] = {}\n",
        "\n",
        "        # get Simple Moving Average 50 and 200 periods\n",
        "        sma50 = data['Close'].rolling(window=50).mean()\n",
        "        sma200 = data['Close'].rolling(window=200).mean()\n",
        "        kpi_data[ticker]['SMA50'] = sma50\n",
        "        kpi_data[ticker]['SMA200'] = sma200\n",
        "\n",
        "        # Calculate RSI\n",
        "        delta = data['Close'].diff()\n",
        "        gain = (delta.where(delta > 0, 0)).rolling(window=14).mean()      # Average gains\n",
        "        loss = (-delta.where(delta < 0, 0)).rolling(window=14).mean()     # Average losses\n",
        "        rs = gain / loss                                                  # Relative strength\n",
        "        rsi = 100 - (100 / (1 + rs))                                      # RSI formula\n",
        "        kpi_data[ticker]['RSI'] = rsi\n",
        "\n",
        "        # Calculate Bollinger Bands\n",
        "        middle_band = data['Close'].rolling(window=20).mean()                     # Middle band (SMA)\n",
        "        upper_band = middle_band + 2 * data['Close'].rolling(window=20).std()     # Upper band\n",
        "        lower_band = middle_band - 2 * data['Close'].rolling(window=20).std()     # Lower band\n",
        "        kpi_data[ticker]['Bollinger Bands'] = {\n",
        "            'Middle Band': middle_band,\n",
        "            'Upper Band': upper_band,\n",
        "            'Lower Band': lower_band\n",
        "        }\n",
        "\n",
        "        # Calculate P/E Ratio\n",
        "        try:\n",
        "            eps = stock.info.get('trailingEps') # Get trailing EPS\n",
        "            if eps and eps != 0:\n",
        "                pe_ratio = data['Close'] / eps\n",
        "                kpi_data[ticker]['P/E Ratio'] = pe_ratio # Calculate P/E ratio\n",
        "            else:\n",
        "                kpi_data[ticker]['P/E Ratio'] = None\n",
        "        except Exception as e:\n",
        "            kpi_data[ticker]['P/E Ratio'] = None\n",
        "            print(f\"An error occurred with ticker {ticker} P/E Ratio: {e}\")\n",
        "\n",
        "        # Calculate Beta\n",
        "        try:\n",
        "            beta = stock.info.get('beta') # Get beta value\n",
        "            kpi_data[ticker]['Beta'] = beta\n",
        "        except Exception as e:\n",
        "            kpi_data[ticker]['Beta'] = None\n",
        "            print(f\"An error occurred with ticker {ticker} Beta: {e}\")\n",
        "\n",
        "        # Calculate MACD\n",
        "        ema_12 = data['Close'].ewm(span=12, adjust=False).mean()    # 12-day EMA\n",
        "        ema_26 = data['Close'].ewm(span=26, adjust=False).mean()    # 26-day EMA\n",
        "        macd = ema_12 - ema_26    # MACD line\n",
        "        signal = macd.ewm(span=9, adjust=False).mean()   # Signal line\n",
        "        histogram = macd - signal    # MACD histogram\n",
        "        kpi_data[ticker]['MACD'] = {\n",
        "            'MACD': macd,\n",
        "            'Signal Line': signal,\n",
        "            'MACD Histogram': histogram\n",
        "        }\n",
        "\n",
        "    return kpi_data\n",
        "\n"
      ],
      "metadata": {
        "id": "SVLtKc515NEo"
      },
      "execution_count": 6,
      "outputs": []
    },
    {
      "cell_type": "code",
      "source": [
        "# Define the number of years for the analysis\n",
        "years = 2\n",
        "\n",
        "# Calculate the start and end dates\n",
        "start_date, end_date = calculate_date_range(years)\n",
        "\n",
        "# List of assets to analyze\n",
        "tickers = ['AAPL', 'AMZN', 'GOOGL', 'META', 'MSFT', 'NVDA', 'TSLA']"
      ],
      "metadata": {
        "id": "wVtZsWRv5SvY"
      },
      "execution_count": 7,
      "outputs": []
    },
    {
      "cell_type": "code",
      "source": [
        "# Calculate KPIs for the defined tickers and date range\n",
        "kpi_data = calculate_kpis(tickers, start_date, end_date)\n",
        "\n",
        "# Create a prompt to generate an executive summary with recommendations based on KPI data\n",
        "prompt = f\"\"\" Read this data {kpi_data} and provide an executive summary with recommendations for each asset. This should be presented with 2 tables format.\n",
        "The 1st table will recap the KPIs elements (in row the assets, and KPIs in columns with their value and how to interpret).\n",
        "In the 2nd table you will give the following information:\n",
        "- The current trend (uptrend, downtrend or range) for range indicate the lower and upper boundaries (zone price)\n",
        "- The recommendation\n",
        "- The confidence in the recommendation\n",
        "- The elements of the recommendation (if any)\n",
        "\"\"\"\n"
      ],
      "metadata": {
        "colab": {
          "base_uri": "https://localhost:8080/",
          "height": 1000
        },
        "collapsed": true,
        "id": "BZAn4dwu5Wyv",
        "outputId": "fb3afcd0-2f5b-49c2-c12e-f796c7fd7cf5"
      },
      "execution_count": 8,
      "outputs": [
        {
          "output_type": "stream",
          "name": "stderr",
          "text": [
            "<ipython-input-4-d59b134f3e63>:13: LangChainDeprecationWarning: The method `BaseChatModel.__call__` was deprecated in langchain-core 0.1.7 and will be removed in 1.0. Use :meth:`~invoke` instead.\n",
            "  response = llm(prompt)\n"
          ]
        },
        {
          "output_type": "display_data",
          "data": {
            "text/plain": [
              "<IPython.core.display.Markdown object>"
            ],
            "text/markdown": "To provide a comprehensive executive summary with recommendations for each asset, we will present the data in two tables. The first table will recap the key performance indicators (KPIs) for each asset, and the second table will provide a detailed analysis including the current trend, recommendation, confidence level, and elements supporting the recommendation.\n\n### Table 1: KPIs Recap\n\n| Asset | SMA50 | SMA200 | RSI | Bollinger Bands | P/E Ratio | Beta | MACD |\n|-------|-------|--------|-----|-----------------|-----------|------|------|\n| AAPL  | 229.93 (Bullish) | 206.62 (Bullish) | 82.96 (Overbought) | Upper: 244.58, Middle: 231.66, Lower: 218.73 | 39.97 (High) | 1.24 (Volatile) | 3.81 (Bullish) |\n| AMZN  | 196.31 (Bullish) | 185.42 (Bullish) | 59.48 (Neutral) | Upper: 219.91, Middle: 207.63, Lower: 195.35 | 47.13 (High) | 1.146 (Volatile) | 5.20 (Bullish) |\n| GOOGL | 169.16 (Bullish) | 164.83 (Bullish) | 45.71 (Neutral) | Upper: 183.64, Middle: 173.73, Lower: 163.82 | 22.90 (Moderate) | 1.034 (Moderate) | 0.39 (Bullish) |\n| META  | 578.49 (Bullish) | 517.67 (Bullish) | 64.56 (Neutral) | Upper: 615.84, Middle: 578.74, Lower: 541.65 | 28.74 (Moderate) | 1.215 (Volatile) | 7.91 (Bullish) |\n| MSFT  | 420.63 (Bullish) | 421.19 (Neutral) | 64.18 (Neutral) | Upper: 439.02, Middle: 423.10, Lower: 407.18 | 36.49 (High) | 0.904 (Stable) | 4.14 (Bullish) |\n| NVDA  | 137.50 (Bullish) | 113.48 (Bullish) | 47.80 (Neutral) | Upper: 151.86, Middle: 143.11, Lower: 134.35 | 57.11 (High) | 1.657 (Volatile) | 0.92 (Bullish) |\n| TSLA  | 281.37 (Bullish) | 218.07 (Bullish) | 73.95 (Overbought) | Upper: 372.71, Middle: 338.43, Lower: 304.14 | 100.95 (Very High) | 2.295 (Very Volatile) | 23.04 (Bullish) |\n\n### Table 2: Analysis and Recommendations\n\n| Asset | Current Trend | Recommendation | Confidence | Elements of Recommendation |\n|-------|---------------|----------------|------------|-----------------------------|\n| AAPL  | Uptrend | Hold/Buy | High | Strong MACD, Overbought RSI, Above SMA50 & SMA200 |\n| AMZN  | Uptrend | Hold/Buy | Medium | Bullish MACD, Above SMA50 & SMA200, Neutral RSI |\n| GOOGL | Range (163.82 - 183.64) | Hold | Medium | Neutral RSI, Bullish MACD, Close to Upper Bollinger Band |\n| META  | Uptrend | Hold/Buy | High | Strong MACD, Above SMA50 & SMA200, Neutral RSI |\n| MSFT  | Range (407.18 - 439.02) | Hold | Medium | Neutral RSI, Bullish MACD, Close to Upper Bollinger Band |\n| NVDA  | Uptrend | Hold/Buy | Medium | Bullish MACD, Above SMA50 & SMA200, Neutral RSI |\n| TSLA  | Uptrend | Hold/Buy | High | Strong MACD, Overbought RSI, Above SMA50 & SMA200 |\n\n### Summary:\n- **AAPL, META, TSLA**: Strong uptrend with high confidence in holding or buying due to bullish indicators and overbought RSI suggesting strong momentum.\n- **AMZN, NVDA**: Uptrend with medium confidence; indicators suggest potential for growth but with some caution due to high P/E ratios.\n- **GOOGL, MSFT**: Currently in a range; hold recommendation with medium confidence as they are near upper Bollinger Bands and have neutral RSI, indicating potential for breakout or pullback.\n\nThese recommendations are based on the current technical indicators and market conditions. Investors should consider their risk tolerance and investment goals before making decisions."
          },
          "metadata": {}
        }
      ]
    },
    {
      "cell_type": "code",
      "source": [
        "# Function to invoke LLM response based on given prompt\n",
        "def get_llm_response(llm, prompt):\n",
        "    \"\"\"\n",
        "    Get the response from the language model for a given prompt.\n",
        "\n",
        "    Parameters:\n",
        "    llm (): The initialized language model.\n",
        "    prompt (str): The prompt to send to the language model.\n",
        "\n",
        "    Returns:\n",
        "    str: The content of the language model's response.\n",
        "    \"\"\"\n",
        "    response = llm.invoke(prompt)\n",
        "    return display(Markdown(response.content))\n"
      ],
      "metadata": {
        "id": "YQ8MmSAv5EDB"
      },
      "execution_count": 4,
      "outputs": []
    },
    {
      "cell_type": "code",
      "source": [
        "!pip install openai==1.55.3 langchain-openai==0.2.11"
      ],
      "metadata": {
        "id": "n2eGJ-psj6Sw"
      },
      "execution_count": null,
      "outputs": []
    },
    {
      "cell_type": "code",
      "source": [
        "from langchain_openai import ChatOpenAI\n",
        "\n",
        "chatgpt_api_key = userdata.get('CHATGPT_API_KEY')\n",
        "\n",
        "\n",
        "# Function to initialize OpenAI LLM model\n",
        "def initialize_ChatGPT_llm(model, api_key):\n",
        "    \"\"\"\n",
        "    Initialize the ChatOpenAI language model.\n",
        "\n",
        "    Parameters:\n",
        "    model (str): The name of the language model to use.\n",
        "    api_key (str): The API key for accessing the OpenAI service.\n",
        "\n",
        "    Returns:\n",
        "    ChatOpenAI: The initialized language model.\n",
        "    \"\"\"\n",
        "    llm = ChatOpenAI(\n",
        "        model=model,\n",
        "        temperature=0,\n",
        "        max_tokens=None,\n",
        "        timeout=None,\n",
        "        max_retries=2,\n",
        "        api_key=api_key\n",
        "    )\n",
        "    return llm\n",
        "\n",
        "# Intialize OpenAI LLM\n",
        "chatgpt_llm = initialize_ChatGPT_llm(\"gpt-4o\", api_key=chatgpt_api_key)\n"
      ],
      "metadata": {
        "id": "a9Jcqr1_48qI"
      },
      "execution_count": 41,
      "outputs": []
    },
    {
      "cell_type": "code",
      "source": [
        "# Get the response from the LLM based on the provided prompt\n",
        "get_llm_response(llm = chatgpt_llm, prompt = prompt)"
      ],
      "metadata": {
        "id": "h2Pszwxbkh4F"
      },
      "execution_count": null,
      "outputs": []
    },
    {
      "cell_type": "code",
      "source": [
        "!pip install langchain-google-genai"
      ],
      "metadata": {
        "id": "j2qlwINhj9UP"
      },
      "execution_count": null,
      "outputs": []
    },
    {
      "cell_type": "code",
      "source": [
        "from langchain_google_genai import ChatGoogleGenerativeAI\n",
        "from google.colab import auth\n",
        "auth.authenticate_user()\n",
        "\n",
        "GEMINI_API_KEY=userdata.get('GEMINI_API_KEY')\n",
        "\n",
        "# Function to initialize Gemini LLM model\n",
        "def initialize_ChatGPT_llm(model, api_key):\n",
        "    \"\"\"\n",
        "    Initialize the Gemini AI language model.\n",
        "\n",
        "    Parameters:\n",
        "    model (str): The name of the language model to use.\n",
        "    api_key (str): The API key for accessing the OpenAI service.\n",
        "\n",
        "    Returns:\n",
        "    ChatGoogleGenerativeAI: The initialized language model.\n",
        "    \"\"\"\n",
        "    llm = ChatGoogleGenerativeAI(\n",
        "        model=model,\n",
        "        temperature=0,\n",
        "        max_tokens=None,\n",
        "        timeout=None,\n",
        "        max_retries=2,\n",
        "        api_key=api_key\n",
        "    )\n",
        "    return llm\n",
        "\n",
        "# Intialize Gemini LLM\n",
        "gemini_llm = initialize_llm(\"gemini-pro\", api_key=GEMINI_API_KEY)\n"
      ],
      "metadata": {
        "id": "AG7P6rmp-Rqr"
      },
      "execution_count": 25,
      "outputs": []
    },
    {
      "cell_type": "code",
      "source": [
        "# Get the response from the LLM based on the provided prompt\n",
        "get_llm_response(llm = gemini_llm, prompt = prompt)"
      ],
      "metadata": {
        "colab": {
          "base_uri": "https://localhost:8080/",
          "height": 927
        },
        "id": "Bz0gcVri-Zka",
        "outputId": "85fb2504-ac9f-4532-c8d5-157fa5ff7e80"
      },
      "execution_count": 28,
      "outputs": [
        {
          "output_type": "display_data",
          "data": {
            "text/plain": [
              "<IPython.core.display.Markdown object>"
            ],
            "text/markdown": "**Table 1: Key Performance Indicators (KPIs)**\n\n| Asset | SMA50 | SMA200 | RSI | Bollinger Bands | P/E Ratio | Beta | MACD |\n|---|---|---|---|---|---|---|---|\n| AAPL | NaN | NaN | NaN | NaN | 22.939687 | 1.24 | 0.000000 |\n| AMZN | NaN | NaN | NaN | NaN | 18.901709 | 1.146 | 0.000000 |\n| GOOGL | NaN | NaN | NaN | NaN | 12.560411 | 1.034 | 0.000000 |\n| META | NaN | NaN | NaN | NaN | 5.360453 | 1.215 | 0.000000 |\n| MSFT | NaN | NaN | NaN | NaN | 19.820640 | 0.904 | 0.000000 |\n| NVDA | NaN | NaN | NaN | NaN | 6.341845 | 1.657 | 0.000000 |\n| TSLA | NaN | NaN | NaN | NaN | 47.551911 | 2.295 | 0.000000 |\n\n**Table 2: Recommendations**\n\n| Asset | Current Trend | Recommendation | Confidence | Elements of Recommendation |\n|---|---|---|---|---|\n| AAPL | Uptrend | Buy | High | The stock is trading above its 50-day and 200-day moving averages, and the RSI is above 50. The MACD is also bullish, with the MACD line above the signal line and the histogram bars increasing. |\n| AMZN | Range (204.505000 - 214.771443) | Hold | Medium | The stock is trading within a range, and the RSI is between 30 and 70. The MACD is also neutral, with the MACD line and the signal line close to each other. |\n| GOOGL | Uptrend | Buy | High | The stock is trading above its 50-day and 200-day moving averages, and the RSI is above 50. The MACD is also bullish, with the MACD line above the signal line and the histogram bars increasing. |\n| META | Range (548.915295 - 592.884711) | Hold | Medium | The stock is trading within a range, and the RSI is between 30 and 70. The MACD is also neutral, with the MACD line and the signal line close to each other. |\n| MSFT | Uptrend | Buy | High | The stock is trading above its 50-day and 200-day moving averages, and the RSI is above 50. The MACD is also bullish, with the MACD line above the signal line and the histogram bars increasing. |\n| NVDA | Uptrend | Buy | High | The stock is trading above its 50-day and 200-day moving averages, and the RSI is above 50. The MACD is also bullish, with the MACD line above the signal line and the histogram bars increasing. |\n| TSLA | Uptrend | Buy | High | The stock is trading above its 50-day and 200-day moving averages, and the RSI is above 50. The MACD is also bullish, with the MACD line above the signal line and the histogram bars increasing. |"
          },
          "metadata": {}
        }
      ]
    },
    {
      "cell_type": "code",
      "source": [
        "!pip install langchain_mistralai"
      ],
      "metadata": {
        "id": "lnAqAYS6e42q"
      },
      "execution_count": null,
      "outputs": []
    },
    {
      "cell_type": "code",
      "source": [
        "from langchain_mistralai import ChatMistralAI\n",
        "\n",
        "MISTRAL_API_KEY=userdata.get('MISTRAL_API_KEY')\n",
        "\n",
        "# Function to initialize OpenAI LLM model\n",
        "def initialize_llm_Mistral(api_key):\n",
        "    \"\"\"\n",
        "    Initialize the ChatOpenAI language model.\n",
        "\n",
        "    Parameters:\n",
        "    api_key (str): The API key for accessing the OpenAI service.\n",
        "\n",
        "    Returns:\n",
        "    ChatMistralAI: The initialized language model.\n",
        "    \"\"\"\n",
        "    llm = ChatMistralAI(\n",
        "        model=\"mistral-large-latest\",\n",
        "        temperature=0,\n",
        "        max_retries=2,\n",
        "        api_key=api_key\n",
        "    )\n",
        "\n",
        "    return llm\n",
        "\n",
        "# Intialize OpenAI LLM\n",
        "mistral_llm = initialize_llm_Mistral(api_key=MISTRAL_API_KEY)\n"
      ],
      "metadata": {
        "id": "3-fKL0nuSety"
      },
      "execution_count": 31,
      "outputs": []
    },
    {
      "cell_type": "code",
      "source": [
        "# Get the response from the LLM based on the provided prompt\n",
        "get_llm_response(llm = mistral_llm, prompt = prompt)"
      ],
      "metadata": {
        "colab": {
          "base_uri": "https://localhost:8080/",
          "height": 1000
        },
        "id": "xzNKhwgtTI03",
        "outputId": "c1387258-1e69-4714-d129-276b479aa2bf"
      },
      "execution_count": 32,
      "outputs": [
        {
          "output_type": "display_data",
          "data": {
            "text/plain": [
              "<IPython.core.display.Markdown object>"
            ],
            "text/markdown": "### Executive Summary\n\n#### Table 1: Key Performance Indicators (KPIs)\n\n| Asset | SMA50 (50-Day Simple Moving Average) | SMA200 (200-Day Simple Moving Average) | RSI (Relative Strength Index) | P/E Ratio | Beta | MACD | Signal Line | MACD Histogram |\n|-------|-----------------------------------|--------------------------------------|-----------------------------|-----------|------|------|-------------|----------------|\n| AAPL  | 229.587607 (Uptrend)                | 206.618662 (Uptrend)                    | 85.009779 (Overbought)        | 39.973683  | 1.24 | 3.811727 (Bullish) | 2.213700 (Bullish) | 1.598028 (Bullish) |\n| AMZN  | 196.312401 (Uptrend)                | 185.42470 (Uptrend)                    | 59.477540 (Neutral)          | 47.126069  | 1.146 | 5.197577 (Bullish) | 4.099027 (Bullish) | 1.098551 (Bullish) |\n| GOOGL | 169.162000 (Uptrend)                | 164.829085 (Uptrend)                   | 45.711782 (Neutral)          | 22.896552  | 1.034 | 0.388114 (Bullish) | 0.655361 (Bullish) | -0.267248 (Bearish) |\n| META  | 578.487404 (Uptrend)                | 517.669541 (Uptrend)                   | 64.564058 (Neutral)          | 28.736668  | 1.215 | 7.913652 (Bullish) | 2.694766 (Bullish) | 5.218886 (Bullish) |\n| MSFT  | 420.627208 (Uptrend)                | 421.189907 (Uptrend)                   | 64.176675 (Neutral)          | 36.489695  | 0.904 | 4.143024 (Bullish) | 1.633880 (Bullish) | 2.509144 (Bullish) |\n| NVDA  | 137.504725 (Uptrend)                | 113.477836 (Uptrend)                   | 47.797764 (Neutral)          | 57.110235  | 1.657 | 0.924158 (Bullish) | 1.193883 (Bullish) | -0.269725 (Bearish) |\n| TSLA  | 281.371600 (Uptrend)                | 218.06770 (Uptrend)                    | 73.954501 (Overbought)       | 100.953549 | 2.295 | 23.039054 (Bullish) | 23.191225 (Bullish) | -0.152171 (Bearish) |\n\n#### Table 2: Recommendations\n\n| Asset | Current Trend                     | Recommendation                        | Confidence | Elements of Recommendation                                                                 |\n|-------|----------------------------------|--------------------------------------|------------|--------------------------------------------------------------------------------------------|\n| AAPL  | Uptrend                           | Buy                                  | High       | Strong uptrend indicated by SMA50 and SMA200. Overbought RSI suggests potential correction, but MACD and Signal Line are bullish. |\n| AMZN  | Uptrend                           | Buy                                  | High       | Consistent uptrend with neutral RSI. MACD and Signal Line are bullish, indicating strong momentum.                             |\n| GOOGL | Uptrend                           | Hold                                 | Moderate   | Uptrend with neutral RSI. MACD is bullish, but Signal Line and MACD Histogram are bearish, suggesting potential reversal.      |\n| META  | Uptrend                           | Buy                                  | High       | Strong uptrend with neutral RSI. MACD and Signal Line are bullish, indicating strong momentum.                               |\n| MSFT  | Uptrend                           | Buy                                  | High       | Consistent uptrend with neutral RSI. MACD and Signal Line are bullish, indicating strong momentum.                           |\n| NVDA  | Uptrend                           | Hold                                 | Moderate   | Uptrend with neutral RSI. MACD is bullish, but Signal Line and MACD Histogram are bearish, suggesting potential reversal.      |\n| TSLA  | Uptrend                           | Hold                                 | Moderate   | Strong uptrend with overbought RSI. MACD and Signal Line are bullish, but MACD Histogram is bearish, suggesting potential reversal. |\n\n### Recommendations Summary\n\n- **AAPL**: Strong buy recommendation due to consistent uptrend and bullish MACD indicators.\n- **AMZN**: Strong buy recommendation due to consistent uptrend and bullish MACD indicators.\n- **GOOGL**: Hold recommendation due to mixed signals from MACD and Signal Line.\n- **META**: Strong buy recommendation due to consistent uptrend and bullish MACD indicators.\n- **MSFT**: Strong buy recommendation due to consistent uptrend and bullish MACD indicators.\n- **NVDA**: Hold recommendation due to mixed signals from MACD and Signal Line.\n- **TSLA**: Hold recommendation due to overbought RSI and mixed signals from MACD and Signal Line.\n\n### Conclusion\n\nThe analysis suggests a bullish outlook for most assets, with strong uptrends and bullish MACD indicators. However, caution is advised for GOOGL, NVDA, and TSLA due to mixed signals and potential reversals. Investors should monitor these assets closely and consider diversifying their portfolios to mitigate risk."
          },
          "metadata": {}
        }
      ]
    },
    {
      "cell_type": "code",
      "source": [
        "!pip install langchain-anthropic"
      ],
      "metadata": {
        "colab": {
          "base_uri": "https://localhost:8080/"
        },
        "id": "6ji-V3M9Yi7h",
        "outputId": "dd70a1ad-537f-4a0a-8b92-eb9bfb2b8f1c"
      },
      "execution_count": 33,
      "outputs": [
        {
          "output_type": "stream",
          "name": "stdout",
          "text": [
            "Collecting langchain-anthropic\n",
            "  Downloading langchain_anthropic-0.3.0-py3-none-any.whl.metadata (2.3 kB)\n",
            "Collecting anthropic<1,>=0.39.0 (from langchain-anthropic)\n",
            "  Downloading anthropic-0.40.0-py3-none-any.whl.metadata (23 kB)\n",
            "Requirement already satisfied: defusedxml<0.8.0,>=0.7.1 in /usr/local/lib/python3.10/dist-packages (from langchain-anthropic) (0.7.1)\n",
            "Requirement already satisfied: langchain-core<0.4.0,>=0.3.17 in /usr/local/lib/python3.10/dist-packages (from langchain-anthropic) (0.3.21)\n",
            "Requirement already satisfied: pydantic<3.0.0,>=2.7.4 in /usr/local/lib/python3.10/dist-packages (from langchain-anthropic) (2.10.2)\n",
            "Requirement already satisfied: anyio<5,>=3.5.0 in /usr/local/lib/python3.10/dist-packages (from anthropic<1,>=0.39.0->langchain-anthropic) (3.7.1)\n",
            "Requirement already satisfied: distro<2,>=1.7.0 in /usr/local/lib/python3.10/dist-packages (from anthropic<1,>=0.39.0->langchain-anthropic) (1.9.0)\n",
            "Requirement already satisfied: httpx<1,>=0.23.0 in /usr/local/lib/python3.10/dist-packages (from anthropic<1,>=0.39.0->langchain-anthropic) (0.28.0)\n",
            "Requirement already satisfied: jiter<1,>=0.4.0 in /usr/local/lib/python3.10/dist-packages (from anthropic<1,>=0.39.0->langchain-anthropic) (0.8.0)\n",
            "Requirement already satisfied: sniffio in /usr/local/lib/python3.10/dist-packages (from anthropic<1,>=0.39.0->langchain-anthropic) (1.3.1)\n",
            "Requirement already satisfied: typing-extensions<5,>=4.7 in /usr/local/lib/python3.10/dist-packages (from anthropic<1,>=0.39.0->langchain-anthropic) (4.12.2)\n",
            "Requirement already satisfied: PyYAML>=5.3 in /usr/local/lib/python3.10/dist-packages (from langchain-core<0.4.0,>=0.3.17->langchain-anthropic) (6.0.2)\n",
            "Requirement already satisfied: jsonpatch<2.0,>=1.33 in /usr/local/lib/python3.10/dist-packages (from langchain-core<0.4.0,>=0.3.17->langchain-anthropic) (1.33)\n",
            "Requirement already satisfied: langsmith<0.2.0,>=0.1.125 in /usr/local/lib/python3.10/dist-packages (from langchain-core<0.4.0,>=0.3.17->langchain-anthropic) (0.1.147)\n",
            "Requirement already satisfied: packaging<25,>=23.2 in /usr/local/lib/python3.10/dist-packages (from langchain-core<0.4.0,>=0.3.17->langchain-anthropic) (24.2)\n",
            "Requirement already satisfied: tenacity!=8.4.0,<10.0.0,>=8.1.0 in /usr/local/lib/python3.10/dist-packages (from langchain-core<0.4.0,>=0.3.17->langchain-anthropic) (9.0.0)\n",
            "Requirement already satisfied: annotated-types>=0.6.0 in /usr/local/lib/python3.10/dist-packages (from pydantic<3.0.0,>=2.7.4->langchain-anthropic) (0.7.0)\n",
            "Requirement already satisfied: pydantic-core==2.27.1 in /usr/local/lib/python3.10/dist-packages (from pydantic<3.0.0,>=2.7.4->langchain-anthropic) (2.27.1)\n",
            "Requirement already satisfied: idna>=2.8 in /usr/local/lib/python3.10/dist-packages (from anyio<5,>=3.5.0->anthropic<1,>=0.39.0->langchain-anthropic) (3.10)\n",
            "Requirement already satisfied: exceptiongroup in /usr/local/lib/python3.10/dist-packages (from anyio<5,>=3.5.0->anthropic<1,>=0.39.0->langchain-anthropic) (1.2.2)\n",
            "Requirement already satisfied: certifi in /usr/local/lib/python3.10/dist-packages (from httpx<1,>=0.23.0->anthropic<1,>=0.39.0->langchain-anthropic) (2024.8.30)\n",
            "Requirement already satisfied: httpcore==1.* in /usr/local/lib/python3.10/dist-packages (from httpx<1,>=0.23.0->anthropic<1,>=0.39.0->langchain-anthropic) (1.0.7)\n",
            "Requirement already satisfied: h11<0.15,>=0.13 in /usr/local/lib/python3.10/dist-packages (from httpcore==1.*->httpx<1,>=0.23.0->anthropic<1,>=0.39.0->langchain-anthropic) (0.14.0)\n",
            "Requirement already satisfied: jsonpointer>=1.9 in /usr/local/lib/python3.10/dist-packages (from jsonpatch<2.0,>=1.33->langchain-core<0.4.0,>=0.3.17->langchain-anthropic) (3.0.0)\n",
            "Requirement already satisfied: orjson<4.0.0,>=3.9.14 in /usr/local/lib/python3.10/dist-packages (from langsmith<0.2.0,>=0.1.125->langchain-core<0.4.0,>=0.3.17->langchain-anthropic) (3.10.12)\n",
            "Requirement already satisfied: requests<3,>=2 in /usr/local/lib/python3.10/dist-packages (from langsmith<0.2.0,>=0.1.125->langchain-core<0.4.0,>=0.3.17->langchain-anthropic) (2.32.3)\n",
            "Requirement already satisfied: requests-toolbelt<2.0.0,>=1.0.0 in /usr/local/lib/python3.10/dist-packages (from langsmith<0.2.0,>=0.1.125->langchain-core<0.4.0,>=0.3.17->langchain-anthropic) (1.0.0)\n",
            "Requirement already satisfied: charset-normalizer<4,>=2 in /usr/local/lib/python3.10/dist-packages (from requests<3,>=2->langsmith<0.2.0,>=0.1.125->langchain-core<0.4.0,>=0.3.17->langchain-anthropic) (3.4.0)\n",
            "Requirement already satisfied: urllib3<3,>=1.21.1 in /usr/local/lib/python3.10/dist-packages (from requests<3,>=2->langsmith<0.2.0,>=0.1.125->langchain-core<0.4.0,>=0.3.17->langchain-anthropic) (2.2.3)\n",
            "Downloading langchain_anthropic-0.3.0-py3-none-any.whl (22 kB)\n",
            "Downloading anthropic-0.40.0-py3-none-any.whl (199 kB)\n",
            "\u001b[2K   \u001b[90m━━━━━━━━━━━━━━━━━━━━━━━━━━━━━━━━━━━━━━━━\u001b[0m \u001b[32m199.5/199.5 kB\u001b[0m \u001b[31m7.8 MB/s\u001b[0m eta \u001b[36m0:00:00\u001b[0m\n",
            "\u001b[?25hInstalling collected packages: anthropic, langchain-anthropic\n",
            "Successfully installed anthropic-0.40.0 langchain-anthropic-0.3.0\n"
          ]
        }
      ]
    },
    {
      "cell_type": "code",
      "source": [
        "from langchain_anthropic import ChatAnthropic\n",
        "\n",
        "ANTHROPIC_API_KEY=userdata.get('ANTHROPIC_API_KEY')\n",
        "\n",
        "# Function to initialize OpenAI LLM model\n",
        "def initialize_llm_Anthropic(api_key):\n",
        "    \"\"\"\n",
        "    Initialize the ChatOpenAI language model.\n",
        "\n",
        "    Parameters:\n",
        "    api_key (str): The API key for accessing the OpenAI service.\n",
        "\n",
        "    Returns:\n",
        "    ChatMistralAI: The initialized language model.\n",
        "    \"\"\"\n",
        "    llm = ChatAnthropic(\n",
        "        model='claude-3-opus-20240229',\n",
        "        temperature=0,\n",
        "        max_retries=2,\n",
        "        api_key=api_key\n",
        "    )\n",
        "\n",
        "    return llm\n",
        "\n",
        "# Intialize OpenAI LLM\n",
        "Anthropic_llm = initialize_llm_Anthropic(api_key=ANTHROPIC_API_KEY)\n"
      ],
      "metadata": {
        "id": "r2ShB2XoYwp-"
      },
      "execution_count": 38,
      "outputs": []
    },
    {
      "cell_type": "code",
      "source": [
        "get_llm_response(llm = Anthropic_llm, prompt = prompt)"
      ],
      "metadata": {
        "colab": {
          "base_uri": "https://localhost:8080/",
          "height": 878
        },
        "id": "Jhs3CbtRZvXO",
        "outputId": "970cda8d-b7a8-492e-e047-9a1aabdaaf46"
      },
      "execution_count": 39,
      "outputs": [
        {
          "output_type": "display_data",
          "data": {
            "text/plain": [
              "<IPython.core.display.Markdown object>"
            ],
            "text/markdown": "Here is the executive summary with recommendations for each asset, presented in two tables:\n\nTable 1: KPIs Recap\n\n| Asset | SMA50      | SMA200     | RSI                   | Bollinger Bands                      | P/E Ratio            | Beta  | MACD                                                 |\n|-------|------------|------------|----------------------|--------------------------------------|---------------------|-------|------------------------------------------------------|\n| AAPL  | Uptrend    | Uptrend    | Overbought (82.96)   | Price near upper band                | Overvalued (39.97)  | 1.24  | Bullish crossover, positive divergence              |\n| AMZN  | Uptrend    | Uptrend    | Neutral (59.48)      | Price within bands                   | Overvalued (47.13)  | 1.146 | Bullish crossover, positive divergence              |\n| GOOGL | Uptrend    | Uptrend    | Neutral (45.71)      | Price near middle band               | Overvalued (22.90)  | 1.034 | Bearish crossover, negative divergence              |\n| META  | Uptrend    | Uptrend    | Neutral (64.56)      | Price near upper band                | Overvalued (28.74)  | 1.215 | Bullish crossover, positive divergence              |\n| MSFT  | Range-bound| Range-bound| Neutral (64.18)      | Price oscillating within bands       | Overvalued (36.49)  | 0.904 | Bullish crossover, positive divergence              |\n| NVDA  | Uptrend    | Uptrend    | Neutral (47.80)      | Price near middle band               | Overvalued (57.11)  | 1.657 | Bearish crossover, negative divergence              |\n| TSLA  | Uptrend    | Uptrend    | Overbought (73.95)   | Price near middle band               | Overvalued (100.95) | 2.295 | Bullish crossover, positive divergence              |\n\nTable 2: Recommendations\n\n| Asset | Current Trend      | Recommendation | Confidence | Elements                                                                 |\n|-------|------------------- |----------------|------------|-------------------------------------------------------------------------|\n| AAPL  | Uptrend            | Hold           | Medium     | Overbought RSI, overvalued P/E, bullish MACD                            |\n| AMZN  | Uptrend            | Buy            | High       | Neutral RSI, bullish MACD, price within Bollinger Bands                 |\n| GOOGL | Uptrend            | Sell           | Medium     | Bearish MACD, overvalued P/E                                            |\n| META  | Uptrend            | Buy            | High       | Bullish MACD, price near upper Bollinger Band                           |\n| MSFT  | Range ($407 - $439)| Hold           | Medium     | Neutral RSI, overvalued P/E, price oscillating within Bollinger Bands   |\n| NVDA  | Uptrend            | Sell           | Medium     | Bearish MACD, highly overvalued P/E                                     |\n| TSLA  | Uptrend            | Hold           | Low        | Overbought RSI, highly overvalued P/E, bullish MACD                     |\n\nIn summary, AMZN and META show the strongest buy signals based on their bullish MACD, neutral RSI, and price action within Bollinger Bands. GOOGL and NVDA display sell signals due to bearish MACD and overvalued P/E ratios. AAPL, MSFT, and TSLA are holds as they present mixed signals, with overbought RSI and overvalued P/E ratios counterbalanced by bullish MACD indicators. The confidence in these recommendations varies based on the strength and alignment of the various technical and fundamental factors."
          },
          "metadata": {}
        }
      ]
    }
  ]
}